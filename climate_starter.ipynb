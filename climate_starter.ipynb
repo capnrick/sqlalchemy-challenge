{
 "cells": [
  {
   "cell_type": "code",
   "execution_count": 1,
   "metadata": {},
   "outputs": [],
   "source": [
    "%matplotlib inline\n",
    "from matplotlib import style\n",
    "style.use('fivethirtyeight')\n",
    "import matplotlib.pyplot as plt\n"
   ]
  },
  {
   "cell_type": "code",
   "execution_count": 2,
   "metadata": {},
   "outputs": [],
   "source": [
    "import numpy as np\n",
    "import pandas as pd\n",
    "import datetime as dt\n",
    "from pprint import pprint"
   ]
  },
  {
   "cell_type": "markdown",
   "metadata": {},
   "source": [
    "# Reflect Tables into SQLAlchemy ORM"
   ]
  },
  {
   "cell_type": "code",
   "execution_count": 3,
   "metadata": {},
   "outputs": [],
   "source": [
    "# Python SQL toolkit and Object Relational Mapper\n",
    "import sqlalchemy\n",
    "from sqlalchemy.ext.automap import automap_base\n",
    "from sqlalchemy.orm import Session\n",
    "from sqlalchemy import create_engine, func, inspect"
   ]
  },
  {
   "cell_type": "code",
   "execution_count": 4,
   "metadata": {},
   "outputs": [],
   "source": [
    "# create engine to hawaii.sqlite\n",
    "engine = create_engine(\"sqlite:///Resources/hawaii.sqlite\")"
   ]
  },
  {
   "cell_type": "code",
   "execution_count": 5,
   "metadata": {},
   "outputs": [],
   "source": [
    "# reflect an existing database into a new model (ORM Class)\n",
    "Base = automap_base()\n",
    "# reflect the tables\n",
    "Base.prepare(engine,reflect=True)"
   ]
  },
  {
   "cell_type": "code",
   "execution_count": 6,
   "metadata": {},
   "outputs": [
    {
     "data": {
      "text/plain": [
       "['measurement', 'station']"
      ]
     },
     "execution_count": 6,
     "metadata": {},
     "output_type": "execute_result"
    }
   ],
   "source": [
    "# View all of the classes that automap found\n",
    "Base.classes.keys()"
   ]
  },
  {
   "cell_type": "code",
   "execution_count": 7,
   "metadata": {},
   "outputs": [],
   "source": [
    "# Save references to each table\n",
    "Measurement=Base.classes.measurement\n",
    "Station=Base.classes.station"
   ]
  },
  {
   "cell_type": "code",
   "execution_count": 8,
   "metadata": {},
   "outputs": [],
   "source": [
    "# Create our session (link) from Python to the DB\n",
    "session=Session(engine)"
   ]
  },
  {
   "cell_type": "code",
   "execution_count": 9,
   "metadata": {},
   "outputs": [],
   "source": [
    "#inspect the engine\n",
    "inspector=inspect(engine)"
   ]
  },
  {
   "cell_type": "code",
   "execution_count": 10,
   "metadata": {},
   "outputs": [
    {
     "data": {
      "text/plain": [
       "['measurement', 'station']"
      ]
     },
     "execution_count": 10,
     "metadata": {},
     "output_type": "execute_result"
    }
   ],
   "source": [
    "#collect the names of the tables\n",
    "\n",
    "inspector.get_table_names()\n",
    "\n"
   ]
  },
  {
   "cell_type": "code",
   "execution_count": 11,
   "metadata": {},
   "outputs": [
    {
     "name": "stdout",
     "output_type": "stream",
     "text": [
      "id INTEGER\n",
      "station TEXT\n",
      "date TEXT\n",
      "prcp FLOAT\n",
      "tobs FLOAT\n"
     ]
    }
   ],
   "source": [
    "#looking at the column names and types 'measurement' table\n",
    "columns_m=inspector.get_columns('measurement')\n",
    "for column in columns_m:\n",
    "    print(column[\"name\"], column[\"type\"])"
   ]
  },
  {
   "cell_type": "code",
   "execution_count": 12,
   "metadata": {},
   "outputs": [
    {
     "name": "stdout",
     "output_type": "stream",
     "text": [
      "id INTEGER\n",
      "station TEXT\n",
      "name TEXT\n",
      "latitude FLOAT\n",
      "longitude FLOAT\n",
      "elevation FLOAT\n"
     ]
    }
   ],
   "source": [
    "#looking at the columns names and types in 'station' table\n",
    "columns_s=inspector.get_columns('station')\n",
    "for column in columns_s:\n",
    "    print(column[\"name\"], column[\"type\"])"
   ]
  },
  {
   "cell_type": "code",
   "execution_count": 13,
   "metadata": {},
   "outputs": [
    {
     "name": "stdout",
     "output_type": "stream",
     "text": [
      "(1, 'USC00519397', '2010-01-01', 0.08, 65.0)\n",
      "(2, 'USC00519397', '2010-01-02', 0.0, 63.0)\n",
      "(3, 'USC00519397', '2010-01-03', 0.0, 74.0)\n",
      "(4, 'USC00519397', '2010-01-04', 0.0, 76.0)\n",
      "(5, 'USC00519397', '2010-01-06', None, 73.0)\n"
     ]
    }
   ],
   "source": [
    "#Looking at the data for 'measurement'\n",
    "results=engine.execute ('select * from Measurement limit 5')\n",
    "for result in results:\n",
    "        print(result)"
   ]
  },
  {
   "cell_type": "code",
   "execution_count": 14,
   "metadata": {},
   "outputs": [
    {
     "name": "stdout",
     "output_type": "stream",
     "text": [
      "(1, 'USC00519397', 'WAIKIKI 717.2, HI US', 21.2716, -157.8168, 3.0)\n",
      "(2, 'USC00513117', 'KANEOHE 838.1, HI US', 21.4234, -157.8015, 14.6)\n",
      "(3, 'USC00514830', 'KUALOA RANCH HEADQUARTERS 886.9, HI US', 21.5213, -157.8374, 7.0)\n",
      "(4, 'USC00517948', 'PEARL CITY, HI US', 21.3934, -157.9751, 11.9)\n",
      "(5, 'USC00518838', 'UPPER WAHIAWA 874.3, HI US', 21.4992, -158.0111, 306.6)\n"
     ]
    }
   ],
   "source": [
    "#Looking at the data for 'station'\n",
    "results=engine.execute ('select * from Station limit 5')\n",
    "for result in results:\n",
    "        print(result)"
   ]
  },
  {
   "cell_type": "markdown",
   "metadata": {},
   "source": [
    "# Exploratory Precipitation Analysis"
   ]
  },
  {
   "cell_type": "code",
   "execution_count": 15,
   "metadata": {},
   "outputs": [
    {
     "name": "stdout",
     "output_type": "stream",
     "text": [
      "2017-08-23\n"
     ]
    },
    {
     "data": {
      "text/plain": [
       "str"
      ]
     },
     "execution_count": 15,
     "metadata": {},
     "output_type": "execute_result"
    }
   ],
   "source": [
    "# Find the most recent date in the data set.\n",
    "most_recent=session.query(Measurement.date).order_by(Measurement.date.desc()).first()[0]\n",
    "\n",
    "\n",
    "print(most_recent)\n",
    "type(most_recent)"
   ]
  },
  {
   "cell_type": "code",
   "execution_count": 16,
   "metadata": {},
   "outputs": [
    {
     "data": {
      "text/plain": [
       "datetime.datetime(2017, 8, 23, 0, 0)"
      ]
     },
     "execution_count": 16,
     "metadata": {},
     "output_type": "execute_result"
    }
   ],
   "source": [
    "# Design a query to retrieve the last 12 months of precipitation data and plot the results. \n",
    "# Starting from the most recent data point in the database. (previous cell)\n",
    "\n",
    "#convert most recent date to datetime format, now called dt_most_recent\n",
    "dt_most_recent= dt.datetime.strptime(most_recent, \"%Y-%m-%d\")\n",
    "dt_most_recent"
   ]
  },
  {
   "cell_type": "code",
   "execution_count": 17,
   "metadata": {},
   "outputs": [
    {
     "data": {
      "text/plain": [
       "datetime.datetime(2016, 8, 23, 0, 0)"
      ]
     },
     "execution_count": 17,
     "metadata": {},
     "output_type": "execute_result"
    }
   ],
   "source": [
    "# Calculate the date one year from the last date in data set.\n",
    "dt_first_date=dt_most_recent-dt.timedelta(days=365)\n",
    "dt_first_date"
   ]
  },
  {
   "cell_type": "code",
   "execution_count": 18,
   "metadata": {},
   "outputs": [
    {
     "data": {
      "text/html": [
       "<div>\n",
       "<style scoped>\n",
       "    .dataframe tbody tr th:only-of-type {\n",
       "        vertical-align: middle;\n",
       "    }\n",
       "\n",
       "    .dataframe tbody tr th {\n",
       "        vertical-align: top;\n",
       "    }\n",
       "\n",
       "    .dataframe thead th {\n",
       "        text-align: right;\n",
       "    }\n",
       "</style>\n",
       "<table border=\"1\" class=\"dataframe\">\n",
       "  <thead>\n",
       "    <tr style=\"text-align: right;\">\n",
       "      <th></th>\n",
       "      <th>Precipitation</th>\n",
       "    </tr>\n",
       "    <tr>\n",
       "      <th>Date</th>\n",
       "      <th></th>\n",
       "    </tr>\n",
       "  </thead>\n",
       "  <tbody>\n",
       "    <tr>\n",
       "      <th>2016-08-24</th>\n",
       "      <td>0.08</td>\n",
       "    </tr>\n",
       "    <tr>\n",
       "      <th>2016-08-24</th>\n",
       "      <td>2.15</td>\n",
       "    </tr>\n",
       "    <tr>\n",
       "      <th>2016-08-24</th>\n",
       "      <td>2.28</td>\n",
       "    </tr>\n",
       "    <tr>\n",
       "      <th>2016-08-24</th>\n",
       "      <td>1.22</td>\n",
       "    </tr>\n",
       "    <tr>\n",
       "      <th>2016-08-24</th>\n",
       "      <td>2.15</td>\n",
       "    </tr>\n",
       "  </tbody>\n",
       "</table>\n",
       "</div>"
      ],
      "text/plain": [
       "            Precipitation\n",
       "Date                     \n",
       "2016-08-24           0.08\n",
       "2016-08-24           2.15\n",
       "2016-08-24           2.28\n",
       "2016-08-24           1.22\n",
       "2016-08-24           2.15"
      ]
     },
     "execution_count": 18,
     "metadata": {},
     "output_type": "execute_result"
    }
   ],
   "source": [
    "# Perform a query to retrieve the data and precipitation scores\n",
    "precip_query=(session.query(Measurement.date,Measurement.prcp).filter(Measurement.date>dt_first_date).order_by(Measurement.date).all())\n",
    "\n",
    "# Save the query results as a Pandas DataFrame and set the index to the date column\n",
    "# Sort the dataframe by date\n",
    "precip_df=pd.DataFrame(precip_query,columns= [\"Date\", \"Precipitation\"])\n",
    "precip_df[\"Date\"] = pd.to_datetime(precip_df[\"Date\"])\n",
    "precip_df= precip_df.sort_values(\"Date\").dropna().set_index(\"Date\")\n",
    "precip_df.head()"
   ]
  },
  {
   "cell_type": "code",
   "execution_count": 19,
   "metadata": {},
   "outputs": [
    {
     "data": {
      "image/png": "[encoded data removed]",
      "text/plain": [
       "<Figure size 648x576 with 1 Axes>"
      ]
     },
     "metadata": {},
     "output_type": "display_data"
    }
   ],
   "source": [
    "# Use Pandas Plotting with Matplotlib to plot the data\n",
    "\n",
    "precip_df.plot(color=\"coral\", figsize=(9, 8))\n",
    "plt.title(\"Precipitation Data for most recent 12 months\")\n",
    "plt.ylabel(\"Precipitation (mm)\")\n",
    "plt.xlabel(\"\")\n",
    "plt.savefig(\"Images/precip.png\")"
   ]
  },
  {
   "cell_type": "code",
   "execution_count": 20,
   "metadata": {},
   "outputs": [
    {
     "data": {
      "text/html": [
       "<div>\n",
       "<style scoped>\n",
       "    .dataframe tbody tr th:only-of-type {\n",
       "        vertical-align: middle;\n",
       "    }\n",
       "\n",
       "    .dataframe tbody tr th {\n",
       "        vertical-align: top;\n",
       "    }\n",
       "\n",
       "    .dataframe thead th {\n",
       "        text-align: right;\n",
       "    }\n",
       "</style>\n",
       "<table border=\"1\" class=\"dataframe\">\n",
       "  <thead>\n",
       "    <tr style=\"text-align: right;\">\n",
       "      <th></th>\n",
       "      <th>Precipitation</th>\n",
       "    </tr>\n",
       "  </thead>\n",
       "  <tbody>\n",
       "    <tr>\n",
       "      <th>count</th>\n",
       "      <td>2015.000000</td>\n",
       "    </tr>\n",
       "    <tr>\n",
       "      <th>mean</th>\n",
       "      <td>0.176462</td>\n",
       "    </tr>\n",
       "    <tr>\n",
       "      <th>std</th>\n",
       "      <td>0.460288</td>\n",
       "    </tr>\n",
       "    <tr>\n",
       "      <th>min</th>\n",
       "      <td>0.000000</td>\n",
       "    </tr>\n",
       "    <tr>\n",
       "      <th>25%</th>\n",
       "      <td>0.000000</td>\n",
       "    </tr>\n",
       "    <tr>\n",
       "      <th>50%</th>\n",
       "      <td>0.020000</td>\n",
       "    </tr>\n",
       "    <tr>\n",
       "      <th>75%</th>\n",
       "      <td>0.130000</td>\n",
       "    </tr>\n",
       "    <tr>\n",
       "      <th>max</th>\n",
       "      <td>6.700000</td>\n",
       "    </tr>\n",
       "  </tbody>\n",
       "</table>\n",
       "</div>"
      ],
      "text/plain": [
       "       Precipitation\n",
       "count    2015.000000\n",
       "mean        0.176462\n",
       "std         0.460288\n",
       "min         0.000000\n",
       "25%         0.000000\n",
       "50%         0.020000\n",
       "75%         0.130000\n",
       "max         6.700000"
      ]
     },
     "execution_count": 20,
     "metadata": {},
     "output_type": "execute_result"
    }
   ],
   "source": [
    "# Use Pandas to calcualte the summary statistics for the precipitation data\n",
    "precip_df.describe()"
   ]
  },
  {
   "cell_type": "markdown",
   "metadata": {},
   "source": [
    "# Exploratory Station Analysis"
   ]
  },
  {
   "cell_type": "code",
   "execution_count": 21,
   "metadata": {},
   "outputs": [
    {
     "name": "stdout",
     "output_type": "stream",
     "text": [
      "9\n"
     ]
    }
   ],
   "source": [
    "# Design a query to calculate the total number stations in the dataset\n",
    "stations = session.query(Station).count()\n",
    "print(stations)"
   ]
  },
  {
   "cell_type": "code",
   "execution_count": 22,
   "metadata": {},
   "outputs": [
    {
     "name": "stdout",
     "output_type": "stream",
     "text": [
      "[('USC00519281', 'WAIHEE 837.5, HI US', 2772),\n",
      " ('USC00519397', 'WAIKIKI 717.2, HI US', 2724),\n",
      " ('USC00513117', 'KANEOHE 838.1, HI US', 2709),\n",
      " ('USC00519523', 'WAIMANALO EXPERIMENTAL FARM, HI US', 2669),\n",
      " ('USC00516128', 'MANOA LYON ARBO 785.2, HI US', 2612),\n",
      " ('USC00514830', 'KUALOA RANCH HEADQUARTERS 886.9, HI US', 2202),\n",
      " ('USC00511918', 'HONOLULU OBSERVATORY 702.2, HI US', 1979),\n",
      " ('USC00517948', 'PEARL CITY, HI US', 1372),\n",
      " ('USC00518838', 'UPPER WAHIAWA 874.3, HI US', 511)]\n"
     ]
    }
   ],
   "source": [
    "# Design a query to find the most active stations (i.e. what stations have the most rows?)\n",
    "# List the stations and the counts in descending order.\n",
    "ma_stations = (session.query(Measurement.station, Station.name, func.count(Measurement.id))\\\n",
    "                .filter(Measurement.station == Station.station)\\\n",
    "                .group_by (Measurement.station)\\\n",
    "                .order_by (func.count(Measurement.id).desc())\\\n",
    "                .all()\n",
    "              )\n",
    "pprint(ma_stations)"
   ]
  },
  {
   "cell_type": "code",
   "execution_count": 23,
   "metadata": {},
   "outputs": [
    {
     "data": {
      "text/plain": [
       "[(54.0, 85.0, 71.66378066378067)]"
      ]
     },
     "execution_count": 23,
     "metadata": {},
     "output_type": "execute_result"
    }
   ],
   "source": [
    "# Using the most active station id from the previous query, calculate the lowest, highest, and average temperature.\n",
    "ma_station_data = (\n",
    "    session.query(\n",
    "        func.min(Measurement.tobs),\\\n",
    "        func.max(Measurement.tobs),\\\n",
    "        func.avg(Measurement.tobs),\\\n",
    "    )\n",
    "    .filter(Measurement.station == ma_stations[0][0])\n",
    "    .all()\n",
    ")\n",
    "\n",
    "ma_station_data"
   ]
  },
  {
   "cell_type": "code",
   "execution_count": 24,
   "metadata": {},
   "outputs": [
    {
     "name": "stdout",
     "output_type": "stream",
     "text": [
      "The most active station with the most measurements is station USC00519281 in WAIHEE 837.5, HI US.\n",
      "The lowest observed temperature for the most recent year was 54.0 deg F.\n",
      "The highest observed temperature for the most recent year was 85.0 deg F.\n",
      "The average of all observed temperatures for the most recent year was 71.66378066378067 deg F.\n"
     ]
    }
   ],
   "source": [
    "print(f\"The most active station with the most measurements is station {ma_stations[0][0]} in {ma_stations[0][1]}.\")\n",
    "print(f\"The lowest observed temperature for the most recent year was {ma_station_data[0][0]} deg F.\")\n",
    "print(f\"The highest observed temperature for the most recent year was {ma_station_data[0][1]} deg F.\")\n",
    "print(f\"The average of all observed temperatures for the most recent year was {ma_station_data[0][2]} deg F.\")"
   ]
  },
  {
   "cell_type": "code",
   "execution_count": 26,
   "metadata": {},
   "outputs": [
    {
     "name": "stdout",
     "output_type": "stream",
     "text": [
      "[('2016-08-24', 77.0),\n",
      " ('2016-08-25', 80.0),\n",
      " ('2016-08-26', 80.0),\n",
      " ('2016-08-27', 75.0),\n",
      " ('2016-08-28', 73.0),\n",
      " ('2016-08-29', 78.0),\n",
      " ('2016-08-30', 77.0),\n",
      " ('2016-08-31', 78.0),\n",
      " ('2016-09-01', 80.0),\n",
      " ('2016-09-02', 80.0),\n",
      " ('2016-09-03', 78.0),\n",
      " ('2016-09-04', 78.0),\n",
      " ('2016-09-05', 78.0),\n",
      " ('2016-09-06', 73.0),\n",
      " ('2016-09-07', 74.0),\n",
      " ('2016-09-08', 80.0),\n",
      " ('2016-09-09', 79.0),\n",
      " ('2016-09-10', 77.0),\n",
      " ('2016-09-11', 80.0),\n",
      " ('2016-09-12', 76.0),\n",
      " ('2016-09-13', 79.0),\n",
      " ('2016-09-14', 75.0),\n",
      " ('2016-09-15', 79.0),\n",
      " ('2016-09-16', 78.0),\n",
      " ('2016-09-17', 79.0),\n",
      " ('2016-09-18', 78.0),\n",
      " ('2016-09-19', 78.0),\n",
      " ('2016-09-20', 76.0),\n",
      " ('2016-09-21', 74.0),\n",
      " ('2016-09-22', 77.0),\n",
      " ('2016-09-23', 78.0),\n",
      " ('2016-09-24', 79.0),\n",
      " ('2016-09-25', 79.0),\n",
      " ('2016-09-26', 77.0),\n",
      " ('2016-09-27', 80.0),\n",
      " ('2016-09-28', 78.0),\n",
      " ('2016-09-29', 78.0),\n",
      " ('2016-09-30', 78.0),\n",
      " ('2016-10-01', 77.0),\n",
      " ('2016-10-02', 79.0),\n",
      " ('2016-10-03', 79.0),\n",
      " ('2016-10-04', 79.0),\n",
      " ('2016-10-05', 79.0),\n",
      " ('2016-10-06', 75.0),\n",
      " ('2016-10-07', 76.0),\n",
      " ('2016-10-08', 73.0),\n",
      " ('2016-10-09', 72.0),\n",
      " ('2016-10-10', 71.0),\n",
      " ('2016-10-11', 77.0),\n",
      " ('2016-10-12', 79.0),\n",
      " ('2016-10-13', 78.0),\n",
      " ('2016-10-14', 79.0),\n",
      " ('2016-10-15', 77.0),\n",
      " ('2016-10-16', 79.0),\n",
      " ('2016-10-17', 77.0),\n",
      " ('2016-10-18', 78.0),\n",
      " ('2016-10-19', 78.0),\n",
      " ('2016-10-20', 78.0),\n",
      " ('2016-10-21', 78.0),\n",
      " ('2016-10-22', 77.0),\n",
      " ('2016-10-23', 74.0),\n",
      " ('2016-10-24', 75.0),\n",
      " ('2016-10-25', 76.0),\n",
      " ('2016-10-26', 73.0),\n",
      " ('2016-10-27', 76.0),\n",
      " ('2016-10-28', 74.0),\n",
      " ('2016-10-29', 77.0),\n",
      " ('2016-10-30', 76.0),\n",
      " ('2016-10-31', 76.0),\n",
      " ('2016-11-01', 74.0),\n",
      " ('2016-11-02', 75.0),\n",
      " ('2016-11-03', 75.0),\n",
      " ('2016-11-04', 75.0),\n",
      " ('2016-11-05', 75.0),\n",
      " ('2016-11-06', 71.0),\n",
      " ('2016-11-07', 63.0),\n",
      " ('2016-11-08', 70.0),\n",
      " ('2016-11-09', 68.0),\n",
      " ('2016-11-10', 67.0),\n",
      " ('2016-11-11', 77.0),\n",
      " ('2016-11-12', 74.0),\n",
      " ('2016-11-13', 77.0),\n",
      " ('2016-11-14', 76.0),\n",
      " ('2016-11-15', 76.0),\n",
      " ('2016-11-16', 75.0),\n",
      " ('2016-11-17', 76.0),\n",
      " ('2016-11-18', 75.0),\n",
      " ('2016-11-19', 73.0),\n",
      " ('2016-11-20', 75.0),\n",
      " ('2016-11-21', 73.0),\n",
      " ('2016-11-22', 75.0),\n",
      " ('2016-11-23', 74.0),\n",
      " ('2016-11-24', 75.0),\n",
      " ('2016-11-25', 74.0),\n",
      " ('2016-11-26', 75.0),\n",
      " ('2016-11-27', 73.0),\n",
      " ('2016-11-28', 75.0),\n",
      " ('2016-11-29', 73.0),\n",
      " ('2016-11-30', 73.0),\n",
      " ('2016-12-01', 74.0),\n",
      " ('2016-12-02', 70.0),\n",
      " ('2016-12-03', 72.0),\n",
      " ('2016-12-04', 70.0),\n",
      " ('2016-12-05', 67.0),\n",
      " ('2016-12-06', 67.0),\n",
      " ('2016-12-07', 69.0),\n",
      " ('2016-12-08', 70.0),\n",
      " ('2016-12-09', 68.0),\n",
      " ('2016-12-10', 69.0),\n",
      " ('2016-12-11', 69.0),\n",
      " ('2016-12-12', 66.0),\n",
      " ('2016-12-13', 65.0),\n",
      " ('2016-12-14', 68.0),\n",
      " ('2016-12-15', 62.0),\n",
      " ('2016-12-16', 75.0),\n",
      " ('2016-12-17', 70.0),\n",
      " ('2016-12-18', 69.0),\n",
      " ('2016-12-19', 76.0),\n",
      " ('2016-12-20', 76.0),\n",
      " ('2016-12-21', 74.0),\n",
      " ('2016-12-22', 73.0),\n",
      " ('2016-12-23', 71.0),\n",
      " ('2016-12-24', 74.0),\n",
      " ('2016-12-25', 74.0),\n",
      " ('2016-12-26', 72.0),\n",
      " ('2016-12-27', 71.0),\n",
      " ('2016-12-28', 72.0),\n",
      " ('2016-12-29', 74.0),\n",
      " ('2016-12-30', 69.0),\n",
      " ('2016-12-31', 67.0),\n",
      " ('2017-01-01', 72.0),\n",
      " ('2017-01-02', 70.0),\n",
      " ('2017-01-03', 64.0),\n",
      " ('2017-01-04', 63.0),\n",
      " ('2017-01-05', 63.0),\n",
      " ('2017-01-06', 62.0),\n",
      " ('2017-01-07', 70.0),\n",
      " ('2017-01-08', 70.0),\n",
      " ('2017-01-09', 62.0),\n",
      " ('2017-01-10', 62.0),\n",
      " ('2017-01-11', 63.0),\n",
      " ('2017-01-12', 65.0),\n",
      " ('2017-01-13', 69.0),\n",
      " ('2017-01-14', 77.0),\n",
      " ('2017-01-15', 70.0),\n",
      " ('2017-01-16', 74.0),\n",
      " ('2017-01-17', 69.0),\n",
      " ('2017-01-18', 72.0),\n",
      " ('2017-01-19', 71.0),\n",
      " ('2017-01-20', 69.0),\n",
      " ('2017-01-21', 71.0),\n",
      " ('2017-01-22', 71.0),\n",
      " ('2017-01-23', 72.0),\n",
      " ('2017-01-24', 72.0),\n",
      " ('2017-01-25', 69.0),\n",
      " ('2017-01-26', 70.0),\n",
      " ('2017-01-27', 66.0),\n",
      " ('2017-01-28', 65.0),\n",
      " ('2017-01-29', 69.0),\n",
      " ('2017-01-30', 68.0),\n",
      " ('2017-01-31', 68.0),\n",
      " ('2017-02-01', 68.0),\n",
      " ('2017-02-02', 59.0),\n",
      " ('2017-02-03', 60.0),\n",
      " ('2017-02-04', 70.0),\n",
      " ('2017-02-05', 73.0),\n",
      " ('2017-02-06', 75.0),\n",
      " ('2017-02-07', 64.0),\n",
      " ('2017-02-08', 59.0),\n",
      " ('2017-02-09', 59.0),\n",
      " ('2017-02-10', 62.0),\n",
      " ('2017-02-11', 68.0),\n",
      " ('2017-02-12', 70.0),\n",
      " ('2017-02-13', 73.0),\n",
      " ('2017-02-14', 79.0),\n",
      " ('2017-02-15', 75.0),\n",
      " ('2017-02-16', 65.0),\n",
      " ('2017-02-17', 70.0),\n",
      " ('2017-02-18', 74.0),\n",
      " ('2017-02-19', 70.0),\n",
      " ('2017-02-20', 70.0),\n",
      " ('2017-02-21', 71.0),\n",
      " ('2017-02-22', 71.0),\n",
      " ('2017-02-23', 71.0),\n",
      " ('2017-02-24', 69.0),\n",
      " ('2017-02-25', 61.0),\n",
      " ('2017-02-26', 67.0),\n",
      " ('2017-02-27', 65.0),\n",
      " ('2017-02-28', 72.0),\n",
      " ('2017-03-01', 71.0),\n",
      " ('2017-03-02', 73.0),\n",
      " ('2017-03-03', 72.0),\n",
      " ('2017-03-04', 77.0),\n",
      " ('2017-03-05', 73.0),\n",
      " ('2017-03-06', 67.0),\n",
      " ('2017-03-07', 62.0),\n",
      " ('2017-03-08', 64.0),\n",
      " ('2017-03-09', 67.0),\n",
      " ('2017-03-10', 66.0),\n",
      " ('2017-03-11', 81.0),\n",
      " ('2017-03-12', 69.0),\n",
      " ('2017-03-13', 66.0),\n",
      " ('2017-03-14', 67.0),\n",
      " ('2017-03-15', 69.0),\n",
      " ('2017-03-16', 66.0),\n",
      " ('2017-03-17', 68.0),\n",
      " ('2017-03-18', 65.0),\n",
      " ('2017-03-19', 74.0),\n",
      " ('2017-03-20', 69.0),\n",
      " ('2017-03-21', 72.0),\n",
      " ('2017-03-22', 73.0),\n",
      " ('2017-03-23', 72.0),\n",
      " ('2017-03-24', 71.0),\n",
      " ('2017-03-25', 76.0),\n",
      " ('2017-03-26', 77.0),\n",
      " ('2017-03-27', 76.0),\n",
      " ('2017-03-28', 74.0),\n",
      " ('2017-03-29', 68.0),\n",
      " ('2017-03-30', 73.0),\n",
      " ('2017-03-31', 71.0),\n",
      " ('2017-04-01', 74.0),\n",
      " ('2017-04-02', 75.0),\n",
      " ('2017-04-03', 70.0),\n",
      " ('2017-04-04', 67.0),\n",
      " ('2017-04-05', 71.0),\n",
      " ('2017-04-06', 67.0),\n",
      " ('2017-04-07', 74.0),\n",
      " ('2017-04-08', 77.0),\n",
      " ('2017-04-09', 78.0),\n",
      " ('2017-04-10', 67.0),\n",
      " ('2017-04-11', 70.0),\n",
      " ('2017-04-12', 69.0),\n",
      " ('2017-04-13', 69.0),\n",
      " ('2017-04-14', 74.0),\n",
      " ('2017-04-15', 78.0),\n",
      " ('2017-04-16', 71.0),\n",
      " ('2017-04-17', 67.0),\n",
      " ('2017-04-18', 68.0),\n",
      " ('2017-04-19', 67.0),\n",
      " ('2017-04-20', 76.0),\n",
      " ('2017-04-21', 69.0),\n",
      " ('2017-04-22', 72.0),\n",
      " ('2017-04-23', 76.0),\n",
      " ('2017-04-24', 68.0),\n",
      " ('2017-04-25', 72.0),\n",
      " ('2017-04-26', 74.0),\n",
      " ('2017-04-27', 70.0),\n",
      " ('2017-04-28', 67.0),\n",
      " ('2017-04-29', 72.0),\n",
      " ('2017-04-30', 60.0),\n",
      " ('2017-05-01', 65.0),\n",
      " ('2017-05-02', 75.0),\n",
      " ('2017-05-03', 70.0),\n",
      " ('2017-05-04', 75.0),\n",
      " ('2017-05-05', 70.0),\n",
      " ('2017-05-06', 79.0),\n",
      " ('2017-05-07', 75.0),\n",
      " ('2017-05-08', 70.0),\n",
      " ('2017-05-09', 67.0),\n",
      " ('2017-05-10', 74.0),\n",
      " ('2017-05-11', 70.0),\n",
      " ('2017-05-12', 75.0),\n",
      " ('2017-05-13', 76.0),\n",
      " ('2017-05-14', 77.0),\n",
      " ('2017-05-15', 74.0),\n",
      " ('2017-05-16', 74.0),\n",
      " ('2017-05-17', 74.0),\n",
      " ('2017-05-18', 69.0),\n",
      " ('2017-05-19', 68.0),\n",
      " ('2017-05-20', 76.0),\n",
      " ('2017-05-21', 74.0),\n",
      " ('2017-05-22', 71.0),\n",
      " ('2017-05-23', 71.0),\n",
      " ('2017-05-24', 74.0),\n",
      " ('2017-05-25', 74.0),\n",
      " ('2017-05-26', 74.0),\n",
      " ('2017-05-27', 74.0),\n",
      " ('2017-05-28', 80.0),\n",
      " ('2017-05-29', 74.0),\n",
      " ('2017-05-30', 72.0),\n",
      " ('2017-05-31', 75.0),\n",
      " ('2017-06-01', 80.0),\n",
      " ('2017-06-02', 76.0),\n",
      " ('2017-06-03', 76.0),\n",
      " ('2017-06-04', 77.0),\n",
      " ('2017-06-05', 75.0),\n",
      " ('2017-06-06', 75.0),\n",
      " ('2017-06-07', 75.0),\n",
      " ('2017-06-08', 75.0),\n",
      " ('2017-06-09', 72.0),\n",
      " ('2017-06-10', 74.0),\n",
      " ('2017-06-11', 74.0),\n",
      " ('2017-06-12', 74.0),\n",
      " ('2017-06-13', 76.0),\n",
      " ('2017-06-14', 74.0),\n",
      " ('2017-06-15', 75.0),\n",
      " ('2017-06-16', 73.0),\n",
      " ('2017-06-17', 79.0),\n",
      " ('2017-06-18', 75.0),\n",
      " ('2017-06-19', 72.0),\n",
      " ('2017-06-20', 72.0),\n",
      " ('2017-06-21', 74.0),\n",
      " ('2017-06-22', 72.0),\n",
      " ('2017-06-23', 72.0),\n",
      " ('2017-06-24', 77.0),\n",
      " ('2017-06-25', 71.0),\n",
      " ('2017-06-26', 73.0),\n",
      " ('2017-06-27', 76.0),\n",
      " ('2017-06-28', 77.0),\n",
      " ('2017-06-29', 76.0),\n",
      " ('2017-06-30', 76.0),\n",
      " ('2017-07-01', 79.0),\n",
      " ('2017-07-02', 81.0),\n",
      " ('2017-07-03', 76.0),\n",
      " ('2017-07-04', 78.0),\n",
      " ('2017-07-05', 77.0),\n",
      " ('2017-07-06', 74.0),\n",
      " ('2017-07-07', 75.0),\n",
      " ('2017-07-08', 78.0),\n",
      " ('2017-07-09', 78.0),\n",
      " ('2017-07-10', 69.0),\n",
      " ('2017-07-11', 72.0),\n",
      " ('2017-07-12', 74.0),\n",
      " ('2017-07-13', 74.0),\n",
      " ('2017-07-14', 76.0),\n",
      " ('2017-07-15', 80.0),\n",
      " ('2017-07-16', 80.0),\n",
      " ('2017-07-17', 76.0),\n",
      " ('2017-07-18', 76.0),\n",
      " ('2017-07-19', 76.0),\n",
      " ('2017-07-20', 77.0),\n",
      " ('2017-07-21', 77.0),\n",
      " ('2017-07-22', 77.0),\n",
      " ('2017-07-23', 82.0),\n",
      " ('2017-07-24', 75.0),\n",
      " ('2017-07-25', 77.0),\n",
      " ('2017-07-26', 75.0),\n",
      " ('2017-07-27', 76.0),\n",
      " ('2017-07-28', 81.0),\n",
      " ('2017-07-29', 82.0),\n",
      " ('2017-07-30', 81.0),\n",
      " ('2017-07-31', 76.0),\n",
      " ('2017-08-04', 77.0),\n",
      " ('2017-08-05', 82.0),\n",
      " ('2017-08-06', 83.0),\n",
      " ('2017-08-13', 77.0),\n",
      " ('2017-08-14', 77.0),\n",
      " ('2017-08-15', 77.0),\n",
      " ('2017-08-16', 76.0),\n",
      " ('2017-08-17', 76.0),\n",
      " ('2017-08-18', 79.0)]\n"
     ]
    }
   ],
   "source": [
    "# Using the most active station id\n",
    "# Query the last 12 months of temperature observation data for this station and\n",
    "query_data= (\n",
    "    session.query(Measurement.date, Measurement.tobs) #creating the query on measurement dates and measurement te\n",
    "    .filter(Measurement.date > dt_first_date)   #only look at the last 12 months\n",
    "    .filter(Measurement.station == ma_stations[0][0]) #most active stations\n",
    "    .order_by(Measurement.date)\n",
    "    .all()\n",
    ")\n",
    "pprint(query_data)"
   ]
  },
  {
   "cell_type": "code",
   "execution_count": 36,
   "metadata": {},
   "outputs": [
    {
     "data": {
      "image/png": "[encoded data removed]",
      "text/plain": [
       "<Figure size 432x288 with 1 Axes>"
      ]
     },
     "metadata": {},
     "output_type": "display_data"
    }
   ],
   "source": [
    "#convert session data to dataframe \n",
    "\n",
    "query_data_df=pd.DataFrame(data=query_data, columns= [\"date\", \"tobs\"])\n",
    "query_data_df=query_data_df.set_index('date', drop=True)\n",
    "\n",
    "\n",
    "#plot the results as a histogram\n",
    "\n",
    "plt.hist(query_data_df,bins=12,label=\"tobs\")\n",
    "plt.tight_layout()\n",
    "plt.ylabel('Number of rercords')\n",
    "plt.xlabel('Degrees Fahrenheit')\n",
    "plt.title('Temperatures Observed at Station WAIHEE 837.5, Hawaii, US ')\n",
    "plt.legend(loc='upper right')\n",
    "plt.savefig('images/station-histogram.png')\n",
    "plt.show()\n",
    "\n",
    "\n"
   ]
  },
  {
   "cell_type": "markdown",
   "metadata": {},
   "source": [
    "# Close session"
   ]
  },
  {
   "cell_type": "code",
   "execution_count": 37,
   "metadata": {},
   "outputs": [],
   "source": [
    "# Close Session\n",
    "session.close()"
   ]
  },
  {
   "cell_type": "code",
   "execution_count": null,
   "metadata": {},
   "outputs": [],
   "source": []
  }
 ],
 "metadata": {
  "anaconda-cloud": {},
  "kernel_info": {
   "name": "python3"
  },
  "kernelspec": {
   "display_name": "Python 3",
   "language": "python",
   "name": "python3"
  },
  "language_info": {
   "codemirror_mode": {
    "name": "ipython",
    "version": 3
   },
   "file_extension": ".py",
   "mimetype": "text/x-python",
   "name": "python",
   "nbconvert_exporter": "python",
   "pygments_lexer": "ipython3",
   "version": "3.8.8"
  },
  "nteract": {
   "version": "0.12.3"
  },
  "varInspector": {
   "cols": {
    "lenName": 16,
    "lenType": 16,
    "lenVar": 40
   },
   "kernels_config": {
    "python": {
     "delete_cmd_postfix": "",
     "delete_cmd_prefix": "del ",
     "library": "var_list.py",
     "varRefreshCmd": "print(var_dic_list())"
    },
    "r": {
     "delete_cmd_postfix": ") ",
     "delete_cmd_prefix": "rm(",
     "library": "var_list.r",
     "varRefreshCmd": "cat(var_dic_list()) "
    }
   },
   "types_to_exclude": [
    "module",
    "function",
    "builtin_function_or_method",
    "instance",
    "_Feature"
   ],
   "window_display": false
  }
 },
 "nbformat": 4,
 "nbformat_minor": 2
}
